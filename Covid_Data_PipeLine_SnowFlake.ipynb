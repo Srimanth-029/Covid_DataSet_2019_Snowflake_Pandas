{
 "cells": [
  {
   "cell_type": "code",
   "execution_count": null,
   "id": "99f217fa-6b5e-4211-b41d-06887299112c",
   "metadata": {},
   "outputs": [],
   "source": [
    "pip install snowflake-connector-python"
   ]
  },
  {
   "cell_type": "code",
   "execution_count": 304,
   "id": "5318858c-c860-439b-9662-54ca487ef704",
   "metadata": {
    "scrolled": true
   },
   "outputs": [],
   "source": [
    "import pandas as pd"
   ]
  },
  {
   "cell_type": "code",
   "execution_count": 305,
   "id": "33f14252-5fc1-44ce-943e-cb59ddeebb6d",
   "metadata": {},
   "outputs": [],
   "source": [
    "import snowflake.connector as sc"
   ]
  },
  {
   "cell_type": "code",
   "execution_count": 306,
   "id": "c7f89521-12a4-423f-8069-53dc164139a4",
   "metadata": {},
   "outputs": [],
   "source": [
    "def snwdb_conn():\n",
    "    try:\n",
    "        conn = sc.connect(\n",
    "            user = 'SRIMANTH029',\n",
    "            password = 'Ever-Rocking1234',\n",
    "            account = 'jepneqm-si84070',\n",
    "            role = 'accountadmin',\n",
    "            warehouse = 'compute_wh',\n",
    "            )\n",
    "        cur = conn.cursor()\n",
    "        db_creation = cur.execute('create database if not exists COVID_DATA')\n",
    "        conn = sc.connect(\n",
    "            user = 'SRIMANTH029',\n",
    "            password = 'Ever-Rocking1234',\n",
    "            account = 'jepneqm-si84070',\n",
    "            role = 'accountadmin',\n",
    "            warehouse = 'compute_wh',\n",
    "            database = 'COVID_DATA'\n",
    "            )\n",
    "        cur = conn.cursor()\n",
    "        schema_creation = cur.execute('CREATE SCHEMA IF NOT EXISTS STAGE')\n",
    "        conn = sc.connect(\n",
    "            user = 'SRIMANTH029',\n",
    "            password = 'Ever-Rocking1234',\n",
    "            account = 'jepneqm-si84070',\n",
    "            role = 'accountadmin',\n",
    "            warehouse = 'compute_wh',\n",
    "            database = 'COVID_DATA',\n",
    "            schema = 'STAGE'\n",
    "            )\n",
    "        cur = conn.cursor()\n",
    "        return conn,cur\n",
    "    except sc.errors.Error as e:\n",
    "        print(e,' unable to establish connection with SNW-DB')"
   ]
  },
  {
   "cell_type": "code",
   "execution_count": 307,
   "id": "082882e9-a677-4365-a40f-e73aa78569ce",
   "metadata": {},
   "outputs": [],
   "source": [
    "connection,cursor = snwdb_conn()"
   ]
  },
  {
   "cell_type": "code",
   "execution_count": 308,
   "id": "cf579faf-ed0c-461f-976d-d102bd77f777",
   "metadata": {},
   "outputs": [
    {
     "data": {
      "text/plain": [
       "<snowflake.connector.cursor.SnowflakeCursor at 0x267aad5e270>"
      ]
     },
     "execution_count": 308,
     "metadata": {},
     "output_type": "execute_result"
    }
   ],
   "source": [
    "create_country_dim_table = 'create or replace TABLE COVID_DATA.STAGE.COUNTRY_DIM (COUNTRY_NAME VARCHAR(255));'\n",
    "cursor.execute(create_country_dim_table)"
   ]
  },
  {
   "cell_type": "code",
   "execution_count": 309,
   "id": "e40aa132-2bf9-4c0f-9a7a-c4deb90f851f",
   "metadata": {},
   "outputs": [
    {
     "data": {
      "text/plain": [
       "<snowflake.connector.cursor.SnowflakeCursor at 0x267aad5e270>"
      ]
     },
     "execution_count": 309,
     "metadata": {},
     "output_type": "execute_result"
    }
   ],
   "source": [
    "create_state_dim_table = 'create or replace TABLE COVID_DATA.STAGE.STATE_DIM (REGION_NAME VARCHAR(255),LAT VARCHAR(60),LON VARCHAR(60));'\n",
    "cursor.execute(create_state_dim_table)"
   ]
  },
  {
   "cell_type": "code",
   "execution_count": 310,
   "id": "90731d0d-5b07-45e4-96a9-d36a428a985b",
   "metadata": {
    "scrolled": true
   },
   "outputs": [
    {
     "data": {
      "text/plain": [
       "<snowflake.connector.cursor.SnowflakeCursor at 0x267aad5e270>"
      ]
     },
     "execution_count": 310,
     "metadata": {},
     "output_type": "execute_result"
    }
   ],
   "source": [
    "create_who_dim_table = 'create or replace TABLE COVID_DATA.STAGE.WHO_DIM (REGION_NAME VARCHAR(255));'\n",
    "cursor.execute(create_who_dim_table)"
   ]
  },
  {
   "cell_type": "code",
   "execution_count": 340,
   "id": "e260b82e-8738-4bae-9106-7439915b680d",
   "metadata": {},
   "outputs": [
    {
     "data": {
      "text/plain": [
       "<snowflake.connector.cursor.SnowflakeCursor at 0x267aad5e270>"
      ]
     },
     "execution_count": 340,
     "metadata": {},
     "output_type": "execute_result"
    }
   ],
   "source": [
    "create_CASES_DATA_FACT_table = 'create or replace TABLE COVID_DATA.COVID_DATASET_2019.CASES_DATA_FACT (COUNTRY_ID NUMBER(38,0) NOT NULL,STATE_ID NUMBER(38,0),WREGION_ID NUMBER(38,0) NOT NULL,DATE_ID NUMBER(38,0) NOT NULL,CONFIRMED NUMBER(38,0),DEATHS NUMBER(38,0),RECOVERED NUMBER(38,0),CREATED_DATE TIMESTAMP DEFAULT CURRENT_DATE(),CREATED_BY VARCHAR(50) DEFAULT CURRENT_USER(),foreign key (COUNTRY_ID) references COVID_DATA.COVID_DATASET_2019.COUNTRY_DIM(COUNTRY_ID),foreign key (STATE_ID) references COVID_DATA.COVID_DATASET_2019.STATE_DIM(STATE_ID),foreign key (WREGION_ID) references COVID_DATA.COVID_DATASET_2019.WHO_DIM(WREGION_ID),foreign key (DATE_ID) references COVID_DATA.COVID_DATASET_2019.DATE_DIM(DATE_ID));'\n",
    "cursor.execute(create_CASES_DATA_FACT_table)"
   ]
  },
  {
   "cell_type": "code",
   "execution_count": 312,
   "id": "f8a8284f-05a1-445d-871b-4e6def4f6933",
   "metadata": {},
   "outputs": [],
   "source": [
    "import csv"
   ]
  },
  {
   "cell_type": "code",
   "execution_count": 313,
   "id": "dcf60586-8092-4ab3-bc07-739e4ba3d313",
   "metadata": {},
   "outputs": [],
   "source": [
    "file_data = pd.read_csv('covid_19_clean_complete - Copy.csv')"
   ]
  },
  {
   "cell_type": "code",
   "execution_count": 314,
   "id": "2f1de5bb-d81a-414b-a8f1-4aed0266c6c1",
   "metadata": {},
   "outputs": [
    {
     "data": {
      "text/html": [
       "<div>\n",
       "<style scoped>\n",
       "    .dataframe tbody tr th:only-of-type {\n",
       "        vertical-align: middle;\n",
       "    }\n",
       "\n",
       "    .dataframe tbody tr th {\n",
       "        vertical-align: top;\n",
       "    }\n",
       "\n",
       "    .dataframe thead th {\n",
       "        text-align: right;\n",
       "    }\n",
       "</style>\n",
       "<table border=\"1\" class=\"dataframe\">\n",
       "  <thead>\n",
       "    <tr style=\"text-align: right;\">\n",
       "      <th></th>\n",
       "      <th>Province/State</th>\n",
       "      <th>Country/Region</th>\n",
       "      <th>Lat</th>\n",
       "      <th>Long</th>\n",
       "      <th>Date</th>\n",
       "      <th>Confirmed</th>\n",
       "      <th>Deaths</th>\n",
       "      <th>Recovered</th>\n",
       "      <th>Active</th>\n",
       "      <th>WHO Region</th>\n",
       "    </tr>\n",
       "  </thead>\n",
       "  <tbody>\n",
       "    <tr>\n",
       "      <th>0</th>\n",
       "      <td>Andhra Pradesh</td>\n",
       "      <td>India</td>\n",
       "      <td>13.8</td>\n",
       "      <td>12</td>\n",
       "      <td>28-02-2021</td>\n",
       "      <td>20</td>\n",
       "      <td>10</td>\n",
       "      <td>1</td>\n",
       "      <td>9</td>\n",
       "      <td>Asia</td>\n",
       "    </tr>\n",
       "  </tbody>\n",
       "</table>\n",
       "</div>"
      ],
      "text/plain": [
       "   Province/State Country/Region   Lat  Long        Date  Confirmed  Deaths  \\\n",
       "0  Andhra Pradesh          India  13.8    12  28-02-2021         20      10   \n",
       "\n",
       "   Recovered  Active WHO Region  \n",
       "0          1       9       Asia  "
      ]
     },
     "execution_count": 314,
     "metadata": {},
     "output_type": "execute_result"
    }
   ],
   "source": [
    "file_data"
   ]
  },
  {
   "cell_type": "code",
   "execution_count": 315,
   "id": "b49f1461-b35e-4ff6-9004-733b0b3b3fce",
   "metadata": {
    "scrolled": true
   },
   "outputs": [],
   "source": [
    "country_data = file_data[['Country/Region']].drop_duplicates().reset_index(drop = True).replace(r'[*]','',regex = True)"
   ]
  },
  {
   "cell_type": "code",
   "execution_count": 316,
   "id": "5164aa8f-b8a1-4724-8a8b-f7c3ed9ee0d4",
   "metadata": {},
   "outputs": [
    {
     "data": {
      "text/html": [
       "<div>\n",
       "<style scoped>\n",
       "    .dataframe tbody tr th:only-of-type {\n",
       "        vertical-align: middle;\n",
       "    }\n",
       "\n",
       "    .dataframe tbody tr th {\n",
       "        vertical-align: top;\n",
       "    }\n",
       "\n",
       "    .dataframe thead th {\n",
       "        text-align: right;\n",
       "    }\n",
       "</style>\n",
       "<table border=\"1\" class=\"dataframe\">\n",
       "  <thead>\n",
       "    <tr style=\"text-align: right;\">\n",
       "      <th></th>\n",
       "      <th>Country/Region</th>\n",
       "    </tr>\n",
       "  </thead>\n",
       "  <tbody>\n",
       "  </tbody>\n",
       "</table>\n",
       "</div>"
      ],
      "text/plain": [
       "Empty DataFrame\n",
       "Columns: [Country/Region]\n",
       "Index: []"
      ]
     },
     "execution_count": 316,
     "metadata": {},
     "output_type": "execute_result"
    }
   ],
   "source": [
    "country_data[country_data['Country/Region'].str.contains(r'[()]')]"
   ]
  },
  {
   "cell_type": "code",
   "execution_count": 317,
   "id": "4ec431ce-055d-49cd-8cd1-548404c812ca",
   "metadata": {},
   "outputs": [],
   "source": [
    "state_data = file_data.loc[~file_data['Province/State'].isna()][['Province/State','Lat','Long']].drop_duplicates().reset_index(drop=True)"
   ]
  },
  {
   "cell_type": "code",
   "execution_count": 318,
   "id": "8726f1b5-282b-4765-9e98-0dcd5a58ec47",
   "metadata": {
    "scrolled": true
   },
   "outputs": [
    {
     "data": {
      "text/html": [
       "<div>\n",
       "<style scoped>\n",
       "    .dataframe tbody tr th:only-of-type {\n",
       "        vertical-align: middle;\n",
       "    }\n",
       "\n",
       "    .dataframe tbody tr th {\n",
       "        vertical-align: top;\n",
       "    }\n",
       "\n",
       "    .dataframe thead th {\n",
       "        text-align: right;\n",
       "    }\n",
       "</style>\n",
       "<table border=\"1\" class=\"dataframe\">\n",
       "  <thead>\n",
       "    <tr style=\"text-align: right;\">\n",
       "      <th></th>\n",
       "      <th>Province/State</th>\n",
       "      <th>Lat</th>\n",
       "      <th>Long</th>\n",
       "    </tr>\n",
       "  </thead>\n",
       "  <tbody>\n",
       "    <tr>\n",
       "      <th>0</th>\n",
       "      <td>Andhra Pradesh</td>\n",
       "      <td>13.8</td>\n",
       "      <td>12</td>\n",
       "    </tr>\n",
       "  </tbody>\n",
       "</table>\n",
       "</div>"
      ],
      "text/plain": [
       "   Province/State   Lat  Long\n",
       "0  Andhra Pradesh  13.8    12"
      ]
     },
     "execution_count": 318,
     "metadata": {},
     "output_type": "execute_result"
    }
   ],
   "source": [
    "state_data"
   ]
  },
  {
   "cell_type": "code",
   "execution_count": 319,
   "id": "c0ed3168-5f26-4b06-8265-b94afefda567",
   "metadata": {},
   "outputs": [],
   "source": [
    "who_data = file_data[['WHO Region']].drop_duplicates().reset_index(drop = True)"
   ]
  },
  {
   "cell_type": "code",
   "execution_count": 320,
   "id": "aa97e228-7ea0-472a-8bad-e1002b38d34a",
   "metadata": {},
   "outputs": [
    {
     "name": "stderr",
     "output_type": "stream",
     "text": [
      "C:\\Users\\polam\\AppData\\Local\\Temp\\ipykernel_36360\\2149730354.py:1: UserWarning: Parsing dates in %d-%m-%Y format when dayfirst=False (the default) was specified. Pass `dayfirst=True` or specify a format to silence this warning.\n",
      "  Date_dim = pd.to_datetime(file_data['Date']).drop_duplicates().reset_index(drop = True).to_frame()\n"
     ]
    }
   ],
   "source": [
    "Date_dim = pd.to_datetime(file_data['Date']).drop_duplicates().reset_index(drop = True).to_frame()"
   ]
  },
  {
   "cell_type": "code",
   "execution_count": 321,
   "id": "112569fb-8a95-4860-b642-287337463509",
   "metadata": {
    "scrolled": true
   },
   "outputs": [],
   "source": [
    "Date_dim['Month'] = Date_dim['Date'].dt.month_name()"
   ]
  },
  {
   "cell_type": "code",
   "execution_count": 322,
   "id": "67a44614-2cea-4704-9d3f-c3844d2c828d",
   "metadata": {},
   "outputs": [],
   "source": [
    "Date_dim['Day'] = Date_dim['Date'].dt.day_name()"
   ]
  },
  {
   "cell_type": "code",
   "execution_count": 323,
   "id": "9ed50ed0-b324-4d03-9f7f-5e0b73ef3d6e",
   "metadata": {},
   "outputs": [],
   "source": [
    "Date_dim['Year'] = Date_dim['Date'].dt.year"
   ]
  },
  {
   "cell_type": "code",
   "execution_count": 324,
   "id": "63a3e614-e90c-4b3c-abba-4a60730aa3ea",
   "metadata": {},
   "outputs": [],
   "source": [
    "Date_dim['Month_Number'] = Date_dim['Date'].dt.month"
   ]
  },
  {
   "cell_type": "code",
   "execution_count": 325,
   "id": "1a1e30cc-aabe-41a6-9b2b-fcb35ff672ef",
   "metadata": {},
   "outputs": [],
   "source": [
    "Date_dim['Dat_Number'] = Date_dim['Date'].dt.day"
   ]
  },
  {
   "cell_type": "code",
   "execution_count": 327,
   "id": "53de7f2f-7e70-4c6f-9aa4-5d83ce2c3b2c",
   "metadata": {
    "scrolled": true
   },
   "outputs": [],
   "source": [
    "call_trunucate_sp = cursor.execute('CALL TRUNCATE_STAGING_TABLES()')"
   ]
  },
  {
   "cell_type": "code",
   "execution_count": 335,
   "id": "d4e03299-090d-412c-b739-144997a62576",
   "metadata": {},
   "outputs": [],
   "source": [
    "insert_country_dim = 'insert into COVID_DATA.STAGE.country_dim(country_name) values(%s)'"
   ]
  },
  {
   "cell_type": "code",
   "execution_count": 329,
   "id": "436b7fcd-2309-457f-b44d-dce2fc962c55",
   "metadata": {},
   "outputs": [],
   "source": [
    "for row,values in country_data.iterrows():\n",
    "    cursor.execute(insert_country_dim,list(values))"
   ]
  },
  {
   "cell_type": "code",
   "execution_count": 336,
   "id": "cf8459c8-a257-4c7e-881b-50ef63af154e",
   "metadata": {},
   "outputs": [],
   "source": [
    "insert_who_dim = 'insert into COVID_DATA.STAGE.who_dim(REGION_NAME) values(%s)'"
   ]
  },
  {
   "cell_type": "code",
   "execution_count": 331,
   "id": "b63a03fc-3099-47dc-9533-b3b79f2ded58",
   "metadata": {},
   "outputs": [],
   "source": [
    "for row,values in who_data.iterrows():\n",
    "    cursor.execute(insert_who_dim,list(values))"
   ]
  },
  {
   "cell_type": "code",
   "execution_count": 332,
   "id": "de1b3909-6455-4ced-9b94-ba2bf6cc2adf",
   "metadata": {},
   "outputs": [],
   "source": [
    "insert_state_dim = 'INSERT INTO COVID_DATA.STAGE.STATE_DIM(REGION_NAME,LAT,LON) VALUES(%s,%s,%s)'"
   ]
  },
  {
   "cell_type": "code",
   "execution_count": 333,
   "id": "6a395bb5-f3d7-4e3c-b664-33745e94a06f",
   "metadata": {},
   "outputs": [],
   "source": [
    "for row,value in state_data.iterrows():\n",
    "    cursor.execute(insert_state_dim,list(value))"
   ]
  },
  {
   "cell_type": "code",
   "execution_count": 334,
   "id": "daf4588e-6971-406b-84ea-4cb8a60b0270",
   "metadata": {},
   "outputs": [],
   "source": [
    "execute_dim_data_ins_sp = cursor.execute('call lkp_ins_dim_data()')"
   ]
  },
  {
   "cell_type": "code",
   "execution_count": 341,
   "id": "8a6a6bed-4ce1-447a-9810-a1c5b29e9c8d",
   "metadata": {
    "scrolled": true
   },
   "outputs": [],
   "source": [
    "# insert_Fact_Table_Query = '''insert into covid_data.covid_dataset_2019.cases_data_fact(COUNTRY_ID,STATE_ID,WREGION_ID,DATE_ID,CONFIRMED,DEATHS,RECOVERED) select cd.country_id,sd.state_id,wd.wregion_id,dm.date_id,CAST(fd.confirmed AS INT),CAST(fd.deaths AS INT),CAST(fd.recovered AS INT) from covid_data.stage.file_data fd left join covid_data.covid_dataset_2019.date_dim dm on dm.date = fd.date left join covid_data.covid_dataset_2019.country_dim cd on cd.country_name = REPLACE(fd.country,'*','') left join covid_data.covid_dataset_2019.state_dim sd on sd.region_name = fd.state left join covid_data.covid_dataset_2019.who_dim wd on wd.region_name = fd.who_region left join covid_data.covid_dataset_2019.cases_data_fact cccd on cccd.country_id = cd.country_id and cccd.date_id = dm.date_id and cccd.wregion_id = wd.wregion_id and coalesce(cccd.state_id,0) = coalesce(sd.state_id,0) and cccd.confirmed = CAST(fd.confirmed AS INT) and cccd.deaths = CAST(fd.deaths AS INT) and cccd.recovered = CAST(fd.recovered AS INT) where cccd.country_id is null'''\n",
    "# cursor.execute(insert_Fact_Table_Query)\n",
    "execute_fact_table_ins_sp = cursor.execute('call ins_fact_table()')"
   ]
  }
 ],
 "metadata": {
  "kernelspec": {
   "display_name": "Python 3 (ipykernel)",
   "language": "python",
   "name": "python3"
  },
  "language_info": {
   "codemirror_mode": {
    "name": "ipython",
    "version": 3
   },
   "file_extension": ".py",
   "mimetype": "text/x-python",
   "name": "python",
   "nbconvert_exporter": "python",
   "pygments_lexer": "ipython3",
   "version": "3.12.1"
  }
 },
 "nbformat": 4,
 "nbformat_minor": 5
}
